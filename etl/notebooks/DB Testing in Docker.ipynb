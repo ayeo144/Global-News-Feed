{
 "cells": [
  {
   "cell_type": "code",
   "execution_count": null,
   "metadata": {},
   "outputs": [],
   "source": [
    "import sys\n",
    "\n",
    "from sqlalchemy import create_engine, inspect\n",
    "from sqlalchemy.orm import sessionmaker\n",
    "\n",
    "sys.path.append(r'../')\n",
    "\n",
    "from scripts.deploy_db import setup_db, validate_db_setup\n",
    "from scripts.run import run_extract, run_load, run_transform"
   ]
  },
  {
   "cell_type": "code",
   "execution_count": null,
   "metadata": {},
   "outputs": [],
   "source": [
    "setup_db()\n",
    "validate_db_setup()"
   ]
  },
  {
   "cell_type": "code",
   "execution_count": null,
   "metadata": {},
   "outputs": [],
   "source": [
    "DB_URL = \"postgresql://postgres:postgres@db:5432/global_news_feed_db\"\n",
    "engine = create_engine(DB_URL)\n",
    "\n",
    "inspector = inspect(engine)\n",
    "inspector.get_table_names()"
   ]
  },
  {
   "cell_type": "code",
   "execution_count": null,
   "metadata": {},
   "outputs": [],
   "source": [
    "run_extract()\n",
    "run_load()\n",
    "run_transform()"
   ]
  },
  {
   "cell_type": "code",
   "execution_count": null,
   "metadata": {},
   "outputs": [],
   "source": [
    "query_res = engine.execute(\"SELECT * FROM production;\")"
   ]
  }
 ],
 "metadata": {
  "language_info": {
   "name": "python"
  },
  "orig_nbformat": 4
 },
 "nbformat": 4,
 "nbformat_minor": 2
}
