{
 "cells": [
  {
   "cell_type": "code",
   "execution_count": 2,
   "id": "2f7088f5",
   "metadata": {},
   "outputs": [],
   "source": [
    "import sys\n",
    "from pathlib import Path\n",
    "\n",
    "sys.path.append(r'../')\n",
    "from src.utils import read_config"
   ]
  },
  {
   "cell_type": "code",
   "execution_count": 3,
   "id": "7efb006e",
   "metadata": {},
   "outputs": [],
   "source": [
    "COUNTRIES_COORDS_JSON = Path(r\"../\", \"cfg\", \"un-country-centroids.json\")\n",
    "ETL_CFG = Path(r\"../\", \"cfg\", \"news-api-cfg.yml\")"
   ]
  },
  {
   "cell_type": "code",
   "execution_count": 4,
   "id": "624463b4",
   "metadata": {},
   "outputs": [],
   "source": [
    "etl_config = read_config(ETL_CFG)\n",
    "countries_coords = read_config(COUNTRIES_COORDS_JSON, loader=\"json\")"
   ]
  },
  {
   "cell_type": "code",
   "execution_count": 5,
   "id": "370b6490",
   "metadata": {},
   "outputs": [],
   "source": [
    "countries_coords_dict = {\n",
    "\n",
    "    item[\"name\"]: {\n",
    "\n",
    "        \"lon\": item[\"long\"], \n",
    "        \"lat\": item[\"lat\"],\n",
    "\n",
    "    } \n",
    "\n",
    "    for item in countries_coords\n",
    "\n",
    "}"
   ]
  },
  {
   "cell_type": "code",
   "execution_count": 6,
   "id": "907b8bd9",
   "metadata": {},
   "outputs": [],
   "source": [
    "countries_in_api = list(etl_config[\"countries\"].keys())\n",
    "\n",
    "mapping = {}\n",
    "\n",
    "for c in countries_in_api:\n",
    "    if c not in mapping.keys():\n",
    "        for c2 in countries_coords_dict.keys():\n",
    "            if c.lower() in c2.lower():\n",
    "                mapping[c] = c2\n",
    "    else:\n",
    "        print(c)"
   ]
  }
 ],
 "metadata": {
  "interpreter": {
   "hash": "7a5d0e8c85128bfc047d75e0ba67d8842aa0e8fb0d567c9082cf190be478f426"
  },
  "kernelspec": {
   "display_name": "Python 3.10.1 ('venv': venv)",
   "language": "python",
   "name": "python3"
  },
  "language_info": {
   "codemirror_mode": {
    "name": "ipython",
    "version": 3
   },
   "file_extension": ".py",
   "mimetype": "text/x-python",
   "name": "python",
   "nbconvert_exporter": "python",
   "pygments_lexer": "ipython3",
   "version": "3.10.1"
  }
 },
 "nbformat": 4,
 "nbformat_minor": 5
}
