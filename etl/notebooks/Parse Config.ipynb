{
 "cells": [
  {
   "cell_type": "code",
   "execution_count": 6,
   "id": "2f7088f5",
   "metadata": {},
   "outputs": [],
   "source": [
    "import yaml\n",
    "\n",
    "path = r'../cfg/news-api-cfg.yml'\n",
    "\n",
    "with open(path) as f:\n",
    "    config = yaml.load(f, Loader=yaml.SafeLoader)"
   ]
  },
  {
   "cell_type": "code",
   "execution_count": 7,
   "id": "7efb006e",
   "metadata": {},
   "outputs": [
    {
     "data": {
      "text/plain": [
       "{'countries': {'Afghanistan': 'AF',\n",
       "  'Albania': 'AL',\n",
       "  'Argentina': 'AR',\n",
       "  'Australia': 'AU',\n",
       "  'Austria': 'AT',\n",
       "  'Belgium': 'BE',\n",
       "  'Brazil': 'BR',\n",
       "  'Bulgaria': 'BG',\n",
       "  'Canada': 'CA',\n",
       "  'China': 'CN',\n",
       "  'Colombia': 'CO',\n",
       "  'Cuba': 'CU',\n",
       "  'Czech Republic': 'CZ',\n",
       "  'Egypt': 'EG',\n",
       "  'France': 'FR',\n",
       "  'Germany': 'DE',\n",
       "  'Hong Kong': 'HK',\n",
       "  'Hungary': 'HU',\n",
       "  'India': 'IN',\n",
       "  'Indonesia': 'ID',\n",
       "  'Ireland': 'IE',\n",
       "  'Israel': 'IL',\n",
       "  'Italy': 'IT',\n",
       "  'Japan': 'JP',\n",
       "  'Korea': 'KR',\n",
       "  'Latvia': 'LV',\n",
       "  'Lithuania': 'LT',\n",
       "  'Malaysia': 'MY',\n",
       "  'Mexico': 'MX',\n",
       "  'Morocco': 'MA',\n",
       "  'Netherlands': 'NL',\n",
       "  'New Zealand': 'NZ',\n",
       "  'Nigeria': 'NG',\n",
       "  'Norway': 'NO',\n",
       "  'Philippines': 'PH',\n",
       "  'Poland': 'PL',\n",
       "  'Portugal': 'PT',\n",
       "  'Romania': 'RO',\n",
       "  'Russian Federation': 'RU',\n",
       "  'Saudi Arabia': 'SA',\n",
       "  'Serbia': 'RS',\n",
       "  'Singapore': 'SG',\n",
       "  'Slovakia': 'SK',\n",
       "  'Slovenia': 'SI',\n",
       "  'South Africa': 'ZA',\n",
       "  'Switzerland': 'CH',\n",
       "  'Thailand': 'TH',\n",
       "  'Turkey': 'TR',\n",
       "  'Ukraine': 'UA',\n",
       "  'United Arab Emirates': 'AE',\n",
       "  'United Kingdom': 'GB',\n",
       "  'United States': 'US',\n",
       "  'Venezuela': 'VE'}}"
      ]
     },
     "execution_count": 7,
     "metadata": {},
     "output_type": "execute_result"
    }
   ],
   "source": [
    "config"
   ]
  }
 ],
 "metadata": {
  "kernelspec": {
   "display_name": "Python 3 (ipykernel)",
   "language": "python",
   "name": "python3"
  },
  "language_info": {
   "codemirror_mode": {
    "name": "ipython",
    "version": 3
   },
   "file_extension": ".py",
   "mimetype": "text/x-python",
   "name": "python",
   "nbconvert_exporter": "python",
   "pygments_lexer": "ipython3",
   "version": "3.10.1"
  }
 },
 "nbformat": 4,
 "nbformat_minor": 5
}
