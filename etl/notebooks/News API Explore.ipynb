{
 "cells": [
  {
   "cell_type": "code",
   "execution_count": 1,
   "id": "b978ee21",
   "metadata": {},
   "outputs": [],
   "source": [
    "import os\n",
    "import sys\n",
    "\n",
    "import boto3\n",
    "\n",
    "from dotenv import load_dotenv\n",
    "from newsapi import NewsApiClient\n",
    "\n",
    "sys.path.append(r'../')\n",
    "from src.extract import Extract"
   ]
  },
  {
   "cell_type": "code",
   "execution_count": 2,
   "id": "8be5d278",
   "metadata": {},
   "outputs": [],
   "source": [
    "extract = Extract(\"United Kingdom\")"
   ]
  },
  {
   "cell_type": "code",
   "execution_count": 3,
   "id": "04f139b0",
   "metadata": {},
   "outputs": [],
   "source": [
    "extract.query()"
   ]
  },
  {
   "cell_type": "code",
   "execution_count": 4,
   "id": "48b28a70",
   "metadata": {},
   "outputs": [],
   "source": [
    "extract.persist(\"test_files\")"
   ]
  },
  {
   "cell_type": "code",
   "execution_count": 59,
   "id": "5b792c0a",
   "metadata": {},
   "outputs": [],
   "source": [
    "def find_duplicates(lst: list) -> list:\n",
    "    return list(set([x for x in lst if lst.count(x) > 1]))\n",
    "\n",
    "def remove_duplicate_responses(response):\n",
    "\n",
    "    unique_urls_dict = {r['url']: i for i, r in enumerate(response)}\n",
    "    all_urls_list = [r['url'] for r in response]\n",
    "\n",
    "    removed_urls = []\n",
    "\n",
    "    for dupe_url in find_duplicates(all_urls_list):\n",
    "        \n",
    "        if dupe_url not in removed_urls:\n",
    "            \n",
    "            index = unique_urls_dict[dupe_url]\n",
    "            response.pop(index)\n",
    "            removed_urls.append(dupe_url)\n",
    "            \n",
    "    return response"
   ]
  },
  {
   "cell_type": "code",
   "execution_count": 60,
   "id": "c5826a51",
   "metadata": {},
   "outputs": [
    {
     "data": {
      "text/plain": [
       "([{'id': 'thing1', 'url': 'http://some.website.1'},\n",
       "  {'id': 'thing2', 'url': 'http://some.website.2'},\n",
       "  {'id': 'thing3', 'url': 'http://some.website.3'},\n",
       "  {'id': 'thing4', 'url': 'http://some.website.4'}],\n",
       " ['http://some.website.2'])"
      ]
     },
     "execution_count": 60,
     "metadata": {},
     "output_type": "execute_result"
    }
   ],
   "source": [
    "test_response = [\n",
    "    {\n",
    "        \"id\": \"thing1\",\n",
    "        \"url\": \"http://some.website.1\",\n",
    "    },\n",
    "    {\n",
    "        \"id\": \"thing2\",\n",
    "        \"url\": \"http://some.website.2\",\n",
    "    },\n",
    "    {\n",
    "        \"id\": \"thing3\",\n",
    "        \"url\": \"http://some.website.3\",\n",
    "    },\n",
    "    {\n",
    "        \"id\": \"thing2\",\n",
    "        \"url\": \"http://some.website.2\",\n",
    "    },\n",
    "    {\n",
    "        \"id\": \"thing4\",\n",
    "        \"url\": \"http://some.website.4\",\n",
    "    },\n",
    "]\n",
    "\n",
    "remove_duplicate_responses(test_response)"
   ]
  },
  {
   "cell_type": "code",
   "execution_count": 35,
   "id": "f2bd0900",
   "metadata": {},
   "outputs": [
    {
     "data": {
      "text/plain": [
       "{1}"
      ]
     },
     "execution_count": 35,
     "metadata": {},
     "output_type": "execute_result"
    }
   ],
   "source": [
    "urls = [1, 1, 2, 3]\n",
    "set([x for x in urls if urls.count(x) > 1])"
   ]
  },
  {
   "cell_type": "code",
   "execution_count": 9,
   "id": "875b595d",
   "metadata": {},
   "outputs": [],
   "source": [
    "load_dotenv()\n",
    "\n",
    "API_KEY = os.getenv(\"NEWS_API_KEY\")"
   ]
  },
  {
   "cell_type": "code",
   "execution_count": 10,
   "id": "7d81b86a",
   "metadata": {},
   "outputs": [],
   "source": [
    "api = NewsApiClient(api_key=API_KEY)"
   ]
  },
  {
   "cell_type": "code",
   "execution_count": 11,
   "id": "cb263fb8",
   "metadata": {},
   "outputs": [
    {
     "data": {
      "text/plain": [
       "{'status': 'ok', 'totalResults': 0, 'articles': []}"
      ]
     },
     "execution_count": 11,
     "metadata": {},
     "output_type": "execute_result"
    }
   ],
   "source": [
    "response = api.get_top_headlines(q='United Kingdom', sources='bbc-news', language='en', page=1)\n",
    "\n",
    "response"
   ]
  },
  {
   "cell_type": "code",
   "execution_count": null,
   "id": "91cd1212",
   "metadata": {},
   "outputs": [],
   "source": []
  }
 ],
 "metadata": {
  "kernelspec": {
   "display_name": "Python 3 (ipykernel)",
   "language": "python",
   "name": "python3"
  },
  "language_info": {
   "codemirror_mode": {
    "name": "ipython",
    "version": 3
   },
   "file_extension": ".py",
   "mimetype": "text/x-python",
   "name": "python",
   "nbconvert_exporter": "python",
   "pygments_lexer": "ipython3",
   "version": "3.10.1"
  }
 },
 "nbformat": 4,
 "nbformat_minor": 5
}
